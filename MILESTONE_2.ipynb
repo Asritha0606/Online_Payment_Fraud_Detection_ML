{
  "nbformat": 4,
  "nbformat_minor": 0,
  "metadata": {
    "colab": {
      "provenance": []
    },
    "kernelspec": {
      "name": "python3",
      "display_name": "Python 3"
    },
    "language_info": {
      "name": "python"
    }
  },
  "cells": [
    {
      "cell_type": "markdown",
      "source": [
        "**MILESTONE 2**"
      ],
      "metadata": {
        "id": "NIrgQjdL4Cp_"
      }
    },
    {
      "cell_type": "markdown",
      "source": [
        "**Importing necessary libraries**"
      ],
      "metadata": {
        "id": "67TkHwUR4Svj"
      }
    },
    {
      "cell_type": "code",
      "source": [
        "# Import necessary libraries\n",
        "import numpy as np\n",
        "import pandas as pd\n",
        "from sklearn.model_selection import train_test_split\n",
        "from sklearn.preprocessing import  OneHotEncoder,MinMaxScaler\n",
        "from sklearn.compose import ColumnTransformer\n",
        "from sklearn.metrics import accuracy_score, precision_score, recall_score, f1_score, classification_report\n",
        "from sklearn.tree import DecisionTreeClassifier\n",
        "from sklearn.ensemble import RandomForestClassifier\n",
        "from sklearn.linear_model import LogisticRegression\n",
        "from sklearn.pipeline import Pipeline\n",
        "from scipy.stats import zscore\n",
        "from tabulate import tabulate  # For beautiful tables\n",
        "import seaborn as sns\n",
        "import matplotlib.pyplot as plt\n",
        "import xgboost as xgb\n",
        "import lightgbm as lgb\n",
        "from sklearn.ensemble import IsolationForest\n",
        "from sklearn.ensemble import VotingClassifier\n",
        "import warnings #importing the warnings module\n",
        "warnings.filterwarnings('ignore') #filtering the warnings\n",
        "lgb_model = lgb.LGBMClassifier(verbosity=-1)\n",
        "xgb_model = xgb.XGBClassifier(verbosity=0)"
      ],
      "metadata": {
        "colab": {
          "base_uri": "https://localhost:8080/"
        },
        "id": "mkEDv72C4VTt",
        "outputId": "04c28418-5cde-42c1-a2a5-a8170bf22e10"
      },
      "execution_count": 1,
      "outputs": [
        {
          "output_type": "stream",
          "name": "stderr",
          "text": [
            "/usr/local/lib/python3.10/dist-packages/dask/dataframe/__init__.py:42: FutureWarning: \n",
            "Dask dataframe query planning is disabled because dask-expr is not installed.\n",
            "\n",
            "You can install it with `pip install dask[dataframe]` or `conda install dask`.\n",
            "This will raise in a future version.\n",
            "\n",
            "  warnings.warn(msg, FutureWarning)\n"
          ]
        }
      ]
    },
    {
      "cell_type": "markdown",
      "source": [
        "**READ THE DATASET**"
      ],
      "metadata": {
        "id": "lEg4CVS-4JXD"
      }
    },
    {
      "cell_type": "code",
      "execution_count": 74,
      "metadata": {
        "id": "3D4OgKA627X9"
      },
      "outputs": [],
      "source": [
        "# Load and preprocess the dataset (assume it's already fetched from S3)\n",
        "# Example dataset - replace with your actual dataset\n",
        "df = pd.read_csv('/content/Final_cleaned_preprocessed_DataSet.csv')"
      ]
    },
    {
      "cell_type": "markdown",
      "source": [
        "**PREPROCESS THE DATASET:**\n",
        "\n",
        "■ Handle missing data, outliers, and normalize/standardize feature values.\n",
        "\n",
        "■ Perform data transformations if required (e.g., one-hot encoding for categorical data).\n",
        "\n"
      ],
      "metadata": {
        "id": "aSwAg_n14nFl"
      }
    },
    {
      "cell_type": "code",
      "source": [
        "# Step 1: Handle Missing Data\n",
        "print(\"Missing values before handling:\\n\", df.isnull().sum())\n",
        "df = df.fillna(df.mean())  # Fill numerical missing values with column mean\n",
        "df = df.fillna(\"Unknown\")  # Fill categorical missing values with 'Unknown'\n",
        "\n",
        "print(\"\\nMissing values after handling:\\n\", df.isnull().sum())\n",
        "\n",
        "\n",
        "# Step 2: Detect and Handle Outliers (Using Z-Score)\n",
        "print(\"\\nNumber of rows before removing outliers:\",df.shape[0])\n",
        "\n",
        "# Calculate Z-scores for numerical columns to identify outliers\n",
        "z_scores = np.abs(zscore(df.select_dtypes(include=['float64', 'int64'])))\n",
        "\n",
        "# Define a threshold (e.g., z-score > 3 is an outlier)\n",
        "df_no_outliers = df[(z_scores < 3).all(axis=1)]\n",
        "print(f\"\\nNumber of rows after removing outliers: {df_no_outliers.shape[0]}\")\n",
        "\n",
        "\n",
        "# Step 3: Split Features (X) and Target (y)\n",
        "X = df_no_outliers.drop('isFraud', axis=1)  # Replace 'is_fraud' with your target column name\n",
        "y = df_no_outliers['isFraud']\n",
        "\n",
        "print(\"\\nShape of X:\", X.shape)\n",
        "print(\"Shape of y:\", y.shape)\n",
        "# Step 4: Identify Numerical and Categorical Features\n",
        "# Explicitly convert 'type' to categorical if it's not already\n",
        "X['type'] = X['type'].astype('category')  # Ensure 'type' is treated as categorical\n",
        "\n",
        "numerical_features = X.select_dtypes(include=['float64', 'int64']).columns\n",
        "categorical_features = X.select_dtypes(include=['category']).columns # Select features with 'category' dtype\n",
        "\n",
        "print(\"\\nNumerical Features:\", numerical_features)\n",
        "print(\"Categorical Features:\", categorical_features)\n",
        "\n",
        "\n",
        "# Step 5: Create a ColumnTransformer with MinMaxScaler\n",
        "preprocessor = ColumnTransformer(\n",
        "    transformers=[\n",
        "        ('num', MinMaxScaler(), numerical_features),  # Scale numerical features to [0, 1]\n",
        "        ('cat', OneHotEncoder(handle_unknown='ignore'), categorical_features)  # One-hot encode categorical features\n",
        "    ]\n",
        ")\n",
        "\n",
        "# Step 6: Apply Transformations to the Data\n",
        "X_transformed = preprocessor.fit_transform(X)\n",
        "\n",
        "print(f\"\\nShape of the transformed dataset: {X_transformed.shape}\")\n",
        "\n",
        "# Optional: Convert to DataFrame for inspection\n",
        "transformed_feature_names = (\n",
        "    numerical_features.tolist() +\n",
        "    list(preprocessor.named_transformers_['cat'].get_feature_names_out(categorical_features))\n",
        ")\n",
        "X_transformed_df = pd.DataFrame(X_transformed, columns=transformed_feature_names)\n",
        "\n",
        "print(\"\\nTransformed Data Sample:\\n\", X_transformed_df.head())\n"
      ],
      "metadata": {
        "colab": {
          "base_uri": "https://localhost:8080/"
        },
        "id": "VcOO8i8p4xFr",
        "outputId": "58a5f567-7fee-4768-9f57-5a319719a3cd"
      },
      "execution_count": 75,
      "outputs": [
        {
          "output_type": "stream",
          "name": "stdout",
          "text": [
            "Missing values before handling:\n",
            " type              0\n",
            "amount            0\n",
            "oldbalanceOrg     0\n",
            "newbalanceDest    0\n",
            "isFraud           0\n",
            "dtype: int64\n",
            "\n",
            "Missing values after handling:\n",
            " type              0\n",
            "amount            0\n",
            "oldbalanceOrg     0\n",
            "newbalanceDest    0\n",
            "isFraud           0\n",
            "dtype: int64\n",
            "\n",
            "Number of rows before removing outliers: 16426\n",
            "\n",
            "Number of rows after removing outliers: 15581\n",
            "\n",
            "Shape of X: (15581, 4)\n",
            "Shape of y: (15581,)\n",
            "\n",
            "Numerical Features: Index(['amount', 'oldbalanceOrg', 'newbalanceDest'], dtype='object')\n",
            "Categorical Features: Index(['type'], dtype='object')\n",
            "\n",
            "Shape of the transformed dataset: (15581, 8)\n",
            "\n",
            "Transformed Data Sample:\n",
            "      amount  oldbalanceOrg  newbalanceDest  type_0.0  type_0.25  type_0.5  \\\n",
            "0  0.011975       0.099792        0.166035       1.0        0.0       0.0   \n",
            "1  0.001974       0.030876        0.000000       0.0        0.0       0.0   \n",
            "2  0.003579       0.002082        0.000000       0.0        0.0       0.0   \n",
            "3  0.028585       0.016635        0.000000       0.0        0.0       0.0   \n",
            "4  0.741190       0.431326        0.368965       0.0        1.0       0.0   \n",
            "\n",
            "   type_0.75  type_1.0  \n",
            "0        0.0       0.0  \n",
            "1        1.0       0.0  \n",
            "2        0.0       1.0  \n",
            "3        0.0       1.0  \n",
            "4        0.0       0.0  \n"
          ]
        }
      ]
    },
    {
      "cell_type": "markdown",
      "source": [
        "**Transformed dataset:**"
      ],
      "metadata": {
        "id": "apLmphDd5Klm"
      }
    },
    {
      "cell_type": "code",
      "source": [
        "df.head()"
      ],
      "metadata": {
        "colab": {
          "base_uri": "https://localhost:8080/",
          "height": 206
        },
        "id": "cJWShcg75Iu2",
        "outputId": "591e8c74-8f3c-48b6-b066-b5a8827726b5"
      },
      "execution_count": 31,
      "outputs": [
        {
          "output_type": "execute_result",
          "data": {
            "text/plain": [
              "   type    amount  oldbalanceOrg  newbalanceDest  isFraud\n",
              "0  0.00  0.002432       0.018398        0.009007      0.0\n",
              "1  0.75  0.000401       0.005692        0.000000      0.0\n",
              "2  1.00  0.000727       0.000384        0.000000      1.0\n",
              "3  1.00  0.005805       0.003067        0.000000      1.0\n",
              "4  0.25  0.150521       0.079521        0.020016      1.0"
            ],
            "text/html": [
              "\n",
              "  <div id=\"df-bfdcdeb7-8517-4da7-9be6-6ee2e461dbed\" class=\"colab-df-container\">\n",
              "    <div>\n",
              "<style scoped>\n",
              "    .dataframe tbody tr th:only-of-type {\n",
              "        vertical-align: middle;\n",
              "    }\n",
              "\n",
              "    .dataframe tbody tr th {\n",
              "        vertical-align: top;\n",
              "    }\n",
              "\n",
              "    .dataframe thead th {\n",
              "        text-align: right;\n",
              "    }\n",
              "</style>\n",
              "<table border=\"1\" class=\"dataframe\">\n",
              "  <thead>\n",
              "    <tr style=\"text-align: right;\">\n",
              "      <th></th>\n",
              "      <th>type</th>\n",
              "      <th>amount</th>\n",
              "      <th>oldbalanceOrg</th>\n",
              "      <th>newbalanceDest</th>\n",
              "      <th>isFraud</th>\n",
              "    </tr>\n",
              "  </thead>\n",
              "  <tbody>\n",
              "    <tr>\n",
              "      <th>0</th>\n",
              "      <td>0.00</td>\n",
              "      <td>0.002432</td>\n",
              "      <td>0.018398</td>\n",
              "      <td>0.009007</td>\n",
              "      <td>0.0</td>\n",
              "    </tr>\n",
              "    <tr>\n",
              "      <th>1</th>\n",
              "      <td>0.75</td>\n",
              "      <td>0.000401</td>\n",
              "      <td>0.005692</td>\n",
              "      <td>0.000000</td>\n",
              "      <td>0.0</td>\n",
              "    </tr>\n",
              "    <tr>\n",
              "      <th>2</th>\n",
              "      <td>1.00</td>\n",
              "      <td>0.000727</td>\n",
              "      <td>0.000384</td>\n",
              "      <td>0.000000</td>\n",
              "      <td>1.0</td>\n",
              "    </tr>\n",
              "    <tr>\n",
              "      <th>3</th>\n",
              "      <td>1.00</td>\n",
              "      <td>0.005805</td>\n",
              "      <td>0.003067</td>\n",
              "      <td>0.000000</td>\n",
              "      <td>1.0</td>\n",
              "    </tr>\n",
              "    <tr>\n",
              "      <th>4</th>\n",
              "      <td>0.25</td>\n",
              "      <td>0.150521</td>\n",
              "      <td>0.079521</td>\n",
              "      <td>0.020016</td>\n",
              "      <td>1.0</td>\n",
              "    </tr>\n",
              "  </tbody>\n",
              "</table>\n",
              "</div>\n",
              "    <div class=\"colab-df-buttons\">\n",
              "\n",
              "  <div class=\"colab-df-container\">\n",
              "    <button class=\"colab-df-convert\" onclick=\"convertToInteractive('df-bfdcdeb7-8517-4da7-9be6-6ee2e461dbed')\"\n",
              "            title=\"Convert this dataframe to an interactive table.\"\n",
              "            style=\"display:none;\">\n",
              "\n",
              "  <svg xmlns=\"http://www.w3.org/2000/svg\" height=\"24px\" viewBox=\"0 -960 960 960\">\n",
              "    <path d=\"M120-120v-720h720v720H120Zm60-500h600v-160H180v160Zm220 220h160v-160H400v160Zm0 220h160v-160H400v160ZM180-400h160v-160H180v160Zm440 0h160v-160H620v160ZM180-180h160v-160H180v160Zm440 0h160v-160H620v160Z\"/>\n",
              "  </svg>\n",
              "    </button>\n",
              "\n",
              "  <style>\n",
              "    .colab-df-container {\n",
              "      display:flex;\n",
              "      gap: 12px;\n",
              "    }\n",
              "\n",
              "    .colab-df-convert {\n",
              "      background-color: #E8F0FE;\n",
              "      border: none;\n",
              "      border-radius: 50%;\n",
              "      cursor: pointer;\n",
              "      display: none;\n",
              "      fill: #1967D2;\n",
              "      height: 32px;\n",
              "      padding: 0 0 0 0;\n",
              "      width: 32px;\n",
              "    }\n",
              "\n",
              "    .colab-df-convert:hover {\n",
              "      background-color: #E2EBFA;\n",
              "      box-shadow: 0px 1px 2px rgba(60, 64, 67, 0.3), 0px 1px 3px 1px rgba(60, 64, 67, 0.15);\n",
              "      fill: #174EA6;\n",
              "    }\n",
              "\n",
              "    .colab-df-buttons div {\n",
              "      margin-bottom: 4px;\n",
              "    }\n",
              "\n",
              "    [theme=dark] .colab-df-convert {\n",
              "      background-color: #3B4455;\n",
              "      fill: #D2E3FC;\n",
              "    }\n",
              "\n",
              "    [theme=dark] .colab-df-convert:hover {\n",
              "      background-color: #434B5C;\n",
              "      box-shadow: 0px 1px 3px 1px rgba(0, 0, 0, 0.15);\n",
              "      filter: drop-shadow(0px 1px 2px rgba(0, 0, 0, 0.3));\n",
              "      fill: #FFFFFF;\n",
              "    }\n",
              "  </style>\n",
              "\n",
              "    <script>\n",
              "      const buttonEl =\n",
              "        document.querySelector('#df-bfdcdeb7-8517-4da7-9be6-6ee2e461dbed button.colab-df-convert');\n",
              "      buttonEl.style.display =\n",
              "        google.colab.kernel.accessAllowed ? 'block' : 'none';\n",
              "\n",
              "      async function convertToInteractive(key) {\n",
              "        const element = document.querySelector('#df-bfdcdeb7-8517-4da7-9be6-6ee2e461dbed');\n",
              "        const dataTable =\n",
              "          await google.colab.kernel.invokeFunction('convertToInteractive',\n",
              "                                                    [key], {});\n",
              "        if (!dataTable) return;\n",
              "\n",
              "        const docLinkHtml = 'Like what you see? Visit the ' +\n",
              "          '<a target=\"_blank\" href=https://colab.research.google.com/notebooks/data_table.ipynb>data table notebook</a>'\n",
              "          + ' to learn more about interactive tables.';\n",
              "        element.innerHTML = '';\n",
              "        dataTable['output_type'] = 'display_data';\n",
              "        await google.colab.output.renderOutput(dataTable, element);\n",
              "        const docLink = document.createElement('div');\n",
              "        docLink.innerHTML = docLinkHtml;\n",
              "        element.appendChild(docLink);\n",
              "      }\n",
              "    </script>\n",
              "  </div>\n",
              "\n",
              "\n",
              "<div id=\"df-77eb82eb-946b-4c3d-926f-a04346eddb75\">\n",
              "  <button class=\"colab-df-quickchart\" onclick=\"quickchart('df-77eb82eb-946b-4c3d-926f-a04346eddb75')\"\n",
              "            title=\"Suggest charts\"\n",
              "            style=\"display:none;\">\n",
              "\n",
              "<svg xmlns=\"http://www.w3.org/2000/svg\" height=\"24px\"viewBox=\"0 0 24 24\"\n",
              "     width=\"24px\">\n",
              "    <g>\n",
              "        <path d=\"M19 3H5c-1.1 0-2 .9-2 2v14c0 1.1.9 2 2 2h14c1.1 0 2-.9 2-2V5c0-1.1-.9-2-2-2zM9 17H7v-7h2v7zm4 0h-2V7h2v10zm4 0h-2v-4h2v4z\"/>\n",
              "    </g>\n",
              "</svg>\n",
              "  </button>\n",
              "\n",
              "<style>\n",
              "  .colab-df-quickchart {\n",
              "      --bg-color: #E8F0FE;\n",
              "      --fill-color: #1967D2;\n",
              "      --hover-bg-color: #E2EBFA;\n",
              "      --hover-fill-color: #174EA6;\n",
              "      --disabled-fill-color: #AAA;\n",
              "      --disabled-bg-color: #DDD;\n",
              "  }\n",
              "\n",
              "  [theme=dark] .colab-df-quickchart {\n",
              "      --bg-color: #3B4455;\n",
              "      --fill-color: #D2E3FC;\n",
              "      --hover-bg-color: #434B5C;\n",
              "      --hover-fill-color: #FFFFFF;\n",
              "      --disabled-bg-color: #3B4455;\n",
              "      --disabled-fill-color: #666;\n",
              "  }\n",
              "\n",
              "  .colab-df-quickchart {\n",
              "    background-color: var(--bg-color);\n",
              "    border: none;\n",
              "    border-radius: 50%;\n",
              "    cursor: pointer;\n",
              "    display: none;\n",
              "    fill: var(--fill-color);\n",
              "    height: 32px;\n",
              "    padding: 0;\n",
              "    width: 32px;\n",
              "  }\n",
              "\n",
              "  .colab-df-quickchart:hover {\n",
              "    background-color: var(--hover-bg-color);\n",
              "    box-shadow: 0 1px 2px rgba(60, 64, 67, 0.3), 0 1px 3px 1px rgba(60, 64, 67, 0.15);\n",
              "    fill: var(--button-hover-fill-color);\n",
              "  }\n",
              "\n",
              "  .colab-df-quickchart-complete:disabled,\n",
              "  .colab-df-quickchart-complete:disabled:hover {\n",
              "    background-color: var(--disabled-bg-color);\n",
              "    fill: var(--disabled-fill-color);\n",
              "    box-shadow: none;\n",
              "  }\n",
              "\n",
              "  .colab-df-spinner {\n",
              "    border: 2px solid var(--fill-color);\n",
              "    border-color: transparent;\n",
              "    border-bottom-color: var(--fill-color);\n",
              "    animation:\n",
              "      spin 1s steps(1) infinite;\n",
              "  }\n",
              "\n",
              "  @keyframes spin {\n",
              "    0% {\n",
              "      border-color: transparent;\n",
              "      border-bottom-color: var(--fill-color);\n",
              "      border-left-color: var(--fill-color);\n",
              "    }\n",
              "    20% {\n",
              "      border-color: transparent;\n",
              "      border-left-color: var(--fill-color);\n",
              "      border-top-color: var(--fill-color);\n",
              "    }\n",
              "    30% {\n",
              "      border-color: transparent;\n",
              "      border-left-color: var(--fill-color);\n",
              "      border-top-color: var(--fill-color);\n",
              "      border-right-color: var(--fill-color);\n",
              "    }\n",
              "    40% {\n",
              "      border-color: transparent;\n",
              "      border-right-color: var(--fill-color);\n",
              "      border-top-color: var(--fill-color);\n",
              "    }\n",
              "    60% {\n",
              "      border-color: transparent;\n",
              "      border-right-color: var(--fill-color);\n",
              "    }\n",
              "    80% {\n",
              "      border-color: transparent;\n",
              "      border-right-color: var(--fill-color);\n",
              "      border-bottom-color: var(--fill-color);\n",
              "    }\n",
              "    90% {\n",
              "      border-color: transparent;\n",
              "      border-bottom-color: var(--fill-color);\n",
              "    }\n",
              "  }\n",
              "</style>\n",
              "\n",
              "  <script>\n",
              "    async function quickchart(key) {\n",
              "      const quickchartButtonEl =\n",
              "        document.querySelector('#' + key + ' button');\n",
              "      quickchartButtonEl.disabled = true;  // To prevent multiple clicks.\n",
              "      quickchartButtonEl.classList.add('colab-df-spinner');\n",
              "      try {\n",
              "        const charts = await google.colab.kernel.invokeFunction(\n",
              "            'suggestCharts', [key], {});\n",
              "      } catch (error) {\n",
              "        console.error('Error during call to suggestCharts:', error);\n",
              "      }\n",
              "      quickchartButtonEl.classList.remove('colab-df-spinner');\n",
              "      quickchartButtonEl.classList.add('colab-df-quickchart-complete');\n",
              "    }\n",
              "    (() => {\n",
              "      let quickchartButtonEl =\n",
              "        document.querySelector('#df-77eb82eb-946b-4c3d-926f-a04346eddb75 button');\n",
              "      quickchartButtonEl.style.display =\n",
              "        google.colab.kernel.accessAllowed ? 'block' : 'none';\n",
              "    })();\n",
              "  </script>\n",
              "</div>\n",
              "\n",
              "    </div>\n",
              "  </div>\n"
            ],
            "application/vnd.google.colaboratory.intrinsic+json": {
              "type": "dataframe",
              "variable_name": "df",
              "summary": "{\n  \"name\": \"df\",\n  \"rows\": 16426,\n  \"fields\": [\n    {\n      \"column\": \"type\",\n      \"properties\": {\n        \"dtype\": \"number\",\n        \"std\": 0.3699136533441603,\n        \"min\": 0.0,\n        \"max\": 1.0,\n        \"num_unique_values\": 5,\n        \"samples\": [\n          0.75,\n          0.5,\n          1.0\n        ],\n        \"semantic_type\": \"\",\n        \"description\": \"\"\n      }\n    },\n    {\n      \"column\": \"amount\",\n      \"properties\": {\n        \"dtype\": \"number\",\n        \"std\": 0.05916853397501827,\n        \"min\": 0.0,\n        \"max\": 1.0,\n        \"num_unique_values\": 12185,\n        \"samples\": [\n          0.0023763134116221,\n          0.0168549662980393,\n          0.1205486174033056\n        ],\n        \"semantic_type\": \"\",\n        \"description\": \"\"\n      }\n    },\n    {\n      \"column\": \"oldbalanceOrg\",\n      \"properties\": {\n        \"dtype\": \"number\",\n        \"std\": 0.05459189787787623,\n        \"min\": 0.0,\n        \"max\": 1.0,\n        \"num_unique_values\": 9410,\n        \"samples\": [\n          0.0003668682586142,\n          0.001357479654251,\n          0.0015836525311395\n        ],\n        \"semantic_type\": \"\",\n        \"description\": \"\"\n      }\n    },\n    {\n      \"column\": \"newbalanceDest\",\n      \"properties\": {\n        \"dtype\": \"number\",\n        \"std\": 0.016325844250638245,\n        \"min\": 0.0,\n        \"max\": 1.0,\n        \"num_unique_values\": 9166,\n        \"samples\": [\n          0.0002718098373078,\n          0.0001532934877108,\n          0.0164421974210801\n        ],\n        \"semantic_type\": \"\",\n        \"description\": \"\"\n      }\n    },\n    {\n      \"column\": \"isFraud\",\n      \"properties\": {\n        \"dtype\": \"number\",\n        \"std\": 0.5000152204684896,\n        \"min\": 0.0,\n        \"max\": 1.0,\n        \"num_unique_values\": 2,\n        \"samples\": [\n          1.0,\n          0.0\n        ],\n        \"semantic_type\": \"\",\n        \"description\": \"\"\n      }\n    }\n  ]\n}"
            }
          },
          "metadata": {},
          "execution_count": 31
        }
      ]
    },
    {
      "cell_type": "markdown",
      "source": [
        "**Split the Dataset into Training, Validation, and Testing Sets:**\n",
        "\n",
        "**○ IMPLEMENTATION**:\n",
        "\n",
        "■ Use train_test_split() from Scikit-learn to divide the data into three sets.\n",
        "\n",
        "■ Typical split ratios: 70% for training, 15% for validation, 15% for testing.\n",
        "\n",
        "**○ Outcome:** Dataset is divided into three subsets for training,"
      ],
      "metadata": {
        "id": "IUh6P0Q_5GBi"
      }
    },
    {
      "cell_type": "code",
      "source": [
        "X = df.drop('isFraud', axis=1)\n",
        "y = df['isFraud']"
      ],
      "metadata": {
        "id": "qJQyn7syplL3"
      },
      "execution_count": 76,
      "outputs": []
    },
    {
      "cell_type": "code",
      "source": [
        "\n",
        "# Step 1: Split into 85% training+validation and 15% testing\n",
        "X_train_val, X_test, y_train_val, y_test = train_test_split(X, y, test_size=0.15, random_state=42)\n",
        "\n",
        "# Step 2: Split the 85% training+validation into 70% training and 15% validation\n",
        "X_train, X_val, y_train, y_val = train_test_split(X_train_val, y_train_val, test_size=0.1765, random_state=42)  # 0.1765 * 85% ≈ 15%\n",
        "\n",
        "\n"
      ],
      "metadata": {
        "id": "sJLWE2rH5oDb"
      },
      "execution_count": 43,
      "outputs": []
    },
    {
      "cell_type": "markdown",
      "source": [
        "■ Evaluate several algorithms like\n",
        "\n",
        "**Decision Trees** - Simple, interpretable but prone to overfitting\n",
        "\n",
        "**Random Forests** - Reduces overfitting, robust but slower for large datasets\n",
        "\n",
        "**Logistic Regression** - Limited to linear relationships\n",
        "\n",
        "**Boosting Algorithms**: Fast, high accuracy\n",
        "\n",
        "\n",
        "\n",
        "*   XGBoost\n",
        "*   LightGBM\n",
        "\n",
        "\n",
        "\n",
        "**Anomaly Detection Algorithm:**\n",
        "\n",
        "**IsolationForest** - Simple to implement Slow for large datasets\n",
        "\n",
        "**Ensemble Model:**\n",
        "\n",
        "**Voting Classifier** - Combines multiple models (Random Forest and Logistic Regression)"
      ],
      "metadata": {
        "id": "H4hmdH3v51TC"
      }
    },
    {
      "cell_type": "code",
      "source": [
        "from sklearn.metrics import (\n",
        "    accuracy_score, precision_score, recall_score, f1_score,\n",
        "    roc_auc_score, confusion_matrix, classification_report\n",
        ")\n",
        "\n",
        "# Initialize models\n",
        "models = {\n",
        "    \"Decision Tree\": DecisionTreeClassifier(),\n",
        "    \"Random Forest\": RandomForestClassifier(n_estimators=100, random_state=42),\n",
        "    \"Logistic Regression\": LogisticRegression(max_iter=1000),\n",
        "    \"XGBoost\": xgb.XGBClassifier(use_label_encoder=False, eval_metric='logloss'),\n",
        "    \"LightGBM\": lgb.LGBMClassifier(random_state=42),\n",
        "    \"Isolation Forest\": IsolationForest(contamination=0.01),\n",
        "    \"Voting Classifier\":VotingClassifier(\n",
        "    estimators=[\n",
        "        ('lr', LogisticRegression(max_iter=1000)),\n",
        "        ('rf', RandomForestClassifier(n_estimators=100)),\n",
        "        ('xgb', xgb.XGBClassifier(use_label_encoder=False, eval_metric='logloss'))\n",
        "    ],\n",
        "    voting='soft'  # Use 'hard' for majority voting\n",
        ")\n",
        "}\n",
        "\n",
        "# Store results in a DataFrame\n",
        "results = []\n",
        "\n",
        "# Function to evaluate each model\n",
        "def evaluate_model(name, model, X_train, X_test, y_train, y_test):\n",
        "    model.fit(X_train, y_train)\n",
        "\n",
        "    # Use Isolation Forest & One-Class SVM differently (for anomaly detection)\n",
        "    if name in [\"Isolation Forest\"]:\n",
        "        y_pred = model.predict(X_test)\n",
        "        y_pred = [1 if p == -1 else 0 for p in y_pred]  # Convert to fraud detection format\n",
        "        y_proba = None  # Explicitly assign y_proba to None for Isolation Forest\n",
        "\n",
        "\n",
        "    else:\n",
        "        y_pred = model.predict(X_test)\n",
        "        y_proba = model.predict_proba(X_test)[:, 1] if hasattr(model, \"predict_proba\") else None\n",
        "\n",
        "    # Calculate metrics\n",
        "    accuracy = accuracy_score(y_test, y_pred)\n",
        "    precision = precision_score(y_test, y_pred)\n",
        "    recall = recall_score(y_test, y_pred)\n",
        "    f1 = f1_score(y_test, y_pred)\n",
        "    roc_auc = roc_auc_score(y_test, y_proba) if y_proba is not None else np.nan\n",
        "\n",
        "    print(f\"{model.__class__.__name__} Performance:\")\n",
        "    print(f\"Accuracy: {accuracy:.4f}\")\n",
        "    print(f\"Precision: {precision:.4f}\")\n",
        "    print(f\"Recall: {recall:.4f}\")\n",
        "    print(f\"F1-Score: {f1:.4f}\\n\")\n",
        "    print(\"Classification Report:\\n\", classification_report(y_test, y_pred))\n",
        "    print(\"-\" * 60)\n",
        "\n",
        "    # Append results\n",
        "    results.append({\n",
        "        \"Model\": name,\n",
        "        \"Accuracy\": accuracy,\n",
        "        \"Precision\": precision,\n",
        "        \"Recall\": recall,\n",
        "        \"F1-Score\": f1,\n",
        "        \"ROC-AUC\": roc_auc,\n",
        "    })\n",
        "\n",
        "# Train and evaluate all models\n",
        "for name, model in models.items():\n",
        "    evaluate_model(name, model, X_train, X_val, y_train, y_val)"
      ],
      "metadata": {
        "colab": {
          "base_uri": "https://localhost:8080/"
        },
        "id": "RC8pEe2O7I33",
        "outputId": "d2ff4656-517b-47cf-add9-074402f83c50"
      },
      "execution_count": 33,
      "outputs": [
        {
          "output_type": "stream",
          "name": "stdout",
          "text": [
            "DecisionTreeClassifier Performance:\n",
            "Accuracy: 0.9834\n",
            "Precision: 0.9850\n",
            "Recall: 0.9809\n",
            "F1-Score: 0.9830\n",
            "\n",
            "Classification Report:\n",
            "               precision    recall  f1-score   support\n",
            "\n",
            "         0.0       0.98      0.99      0.98      1258\n",
            "         1.0       0.99      0.98      0.98      1207\n",
            "\n",
            "    accuracy                           0.98      2465\n",
            "   macro avg       0.98      0.98      0.98      2465\n",
            "weighted avg       0.98      0.98      0.98      2465\n",
            "\n",
            "------------------------------------------------------------\n",
            "RandomForestClassifier Performance:\n",
            "Accuracy: 0.9874\n",
            "Precision: 0.9804\n",
            "Recall: 0.9942\n",
            "F1-Score: 0.9872\n",
            "\n",
            "Classification Report:\n",
            "               precision    recall  f1-score   support\n",
            "\n",
            "         0.0       0.99      0.98      0.99      1258\n",
            "         1.0       0.98      0.99      0.99      1207\n",
            "\n",
            "    accuracy                           0.99      2465\n",
            "   macro avg       0.99      0.99      0.99      2465\n",
            "weighted avg       0.99      0.99      0.99      2465\n",
            "\n",
            "------------------------------------------------------------\n",
            "LogisticRegression Performance:\n",
            "Accuracy: 0.7822\n",
            "Precision: 0.8815\n",
            "Recall: 0.6413\n",
            "F1-Score: 0.7424\n",
            "\n",
            "Classification Report:\n",
            "               precision    recall  f1-score   support\n",
            "\n",
            "         0.0       0.73      0.92      0.81      1258\n",
            "         1.0       0.88      0.64      0.74      1207\n",
            "\n",
            "    accuracy                           0.78      2465\n",
            "   macro avg       0.80      0.78      0.78      2465\n",
            "weighted avg       0.80      0.78      0.78      2465\n",
            "\n",
            "------------------------------------------------------------\n",
            "XGBClassifier Performance:\n",
            "Accuracy: 0.9878\n",
            "Precision: 0.9820\n",
            "Recall: 0.9934\n",
            "F1-Score: 0.9876\n",
            "\n",
            "Classification Report:\n",
            "               precision    recall  f1-score   support\n",
            "\n",
            "         0.0       0.99      0.98      0.99      1258\n",
            "         1.0       0.98      0.99      0.99      1207\n",
            "\n",
            "    accuracy                           0.99      2465\n",
            "   macro avg       0.99      0.99      0.99      2465\n",
            "weighted avg       0.99      0.99      0.99      2465\n",
            "\n",
            "------------------------------------------------------------\n",
            "[LightGBM] [Info] Number of positive: 5734, number of negative: 5763\n",
            "[LightGBM] [Info] Auto-choosing row-wise multi-threading, the overhead of testing was 0.000167 seconds.\n",
            "You can set `force_row_wise=true` to remove the overhead.\n",
            "And if memory is not enough, you can set `force_col_wise=true`.\n",
            "[LightGBM] [Info] Total Bins 770\n",
            "[LightGBM] [Info] Number of data points in the train set: 11497, number of used features: 4\n",
            "[LightGBM] [Info] [binary:BoostFromScore]: pavg=0.498739 -> initscore=-0.005045\n",
            "[LightGBM] [Info] Start training from score -0.005045\n",
            "LGBMClassifier Performance:\n",
            "Accuracy: 0.9895\n",
            "Precision: 0.9836\n",
            "Recall: 0.9950\n",
            "F1-Score: 0.9893\n",
            "\n",
            "Classification Report:\n",
            "               precision    recall  f1-score   support\n",
            "\n",
            "         0.0       1.00      0.98      0.99      1258\n",
            "         1.0       0.98      1.00      0.99      1207\n",
            "\n",
            "    accuracy                           0.99      2465\n",
            "   macro avg       0.99      0.99      0.99      2465\n",
            "weighted avg       0.99      0.99      0.99      2465\n",
            "\n",
            "------------------------------------------------------------\n",
            "IsolationForest Performance:\n",
            "Accuracy: 0.5176\n",
            "Precision: 0.7812\n",
            "Recall: 0.0207\n",
            "F1-Score: 0.0404\n",
            "\n",
            "Classification Report:\n",
            "               precision    recall  f1-score   support\n",
            "\n",
            "         0.0       0.51      0.99      0.68      1258\n",
            "         1.0       0.78      0.02      0.04      1207\n",
            "\n",
            "    accuracy                           0.52      2465\n",
            "   macro avg       0.65      0.51      0.36      2465\n",
            "weighted avg       0.64      0.52      0.37      2465\n",
            "\n",
            "------------------------------------------------------------\n",
            "VotingClassifier Performance:\n",
            "Accuracy: 0.9886\n",
            "Precision: 0.9836\n",
            "Recall: 0.9934\n",
            "F1-Score: 0.9885\n",
            "\n",
            "Classification Report:\n",
            "               precision    recall  f1-score   support\n",
            "\n",
            "         0.0       0.99      0.98      0.99      1258\n",
            "         1.0       0.98      0.99      0.99      1207\n",
            "\n",
            "    accuracy                           0.99      2465\n",
            "   macro avg       0.99      0.99      0.99      2465\n",
            "weighted avg       0.99      0.99      0.99      2465\n",
            "\n",
            "------------------------------------------------------------\n"
          ]
        }
      ]
    },
    {
      "cell_type": "code",
      "source": [
        "# Convert results to a DataFrame and sort by F1-score\n",
        "results_df = pd.DataFrame(results).sort_values(by=\"F1-Score\", ascending=False)\n",
        "\n",
        "print(tabulate(results_df, headers='keys', tablefmt='fancy_grid'))\n",
        "\n",
        "# Plot F1-Score comparison using Seaborn\n",
        "plt.figure(figsize=(12, 6))\n",
        "sns.barplot(x='F1-Score', y='Model', data=results_df, palette='coolwarm')\n",
        "plt.title('Model Comparison Based on F1-Score')\n",
        "plt.show()"
      ],
      "metadata": {
        "colab": {
          "base_uri": "https://localhost:8080/",
          "height": 878
        },
        "id": "LURV8QXICJJH",
        "outputId": "ebcc5037-636f-450b-8d21-54d9b647baf2"
      },
      "execution_count": 34,
      "outputs": [
        {
          "output_type": "stream",
          "name": "stdout",
          "text": [
            "╒════╤═════════════════════╤════════════╤═════════════╤═══════════╤════════════╤════════════╕\n",
            "│    │ Model               │   Accuracy │   Precision │    Recall │   F1-Score │    ROC-AUC │\n",
            "╞════╪═════════════════════╪════════════╪═════════════╪═══════════╪════════════╪════════════╡\n",
            "│  4 │ LightGBM            │   0.989452 │    0.98362  │ 0.995029  │  0.989292  │   0.997898 │\n",
            "├────┼─────────────────────┼────────────┼─────────────┼───────────┼────────────┼────────────┤\n",
            "│  6 │ Voting Classifier   │   0.988641 │    0.983593 │ 0.993372  │  0.988458  │   0.996745 │\n",
            "├────┼─────────────────────┼────────────┼─────────────┼───────────┼────────────┼────────────┤\n",
            "│  3 │ XGBoost             │   0.98783  │    0.981982 │ 0.993372  │  0.987644  │   0.997374 │\n",
            "├────┼─────────────────────┼────────────┼─────────────┼───────────┼────────────┼────────────┤\n",
            "│  1 │ Random Forest       │   0.987424 │    0.980392 │ 0.9942    │  0.987248  │   0.996445 │\n",
            "├────┼─────────────────────┼────────────┼─────────────┼───────────┼────────────┼────────────┤\n",
            "│  0 │ Decision Tree       │   0.983367 │    0.985025 │ 0.980944  │  0.98298   │   0.983318 │\n",
            "├────┼─────────────────────┼────────────┼─────────────┼───────────┼────────────┼────────────┤\n",
            "│  2 │ Logistic Regression │   0.78215  │    0.881549 │ 0.641259  │  0.742446  │   0.770314 │\n",
            "├────┼─────────────────────┼────────────┼─────────────┼───────────┼────────────┼────────────┤\n",
            "│  5 │ Isolation Forest    │   0.517647 │    0.78125  │ 0.0207125 │  0.0403551 │ nan        │\n",
            "╘════╧═════════════════════╧════════════╧═════════════╧═══════════╧════════════╧════════════╛\n"
          ]
        },
        {
          "output_type": "display_data",
          "data": {
            "text/plain": [
              "<Figure size 1200x600 with 1 Axes>"
            ],
            "image/png": "[encoded data removed]"
          },
          "metadata": {}
        }
      ]
    },
    {
      "cell_type": "markdown",
      "source": [
        "**CONCLUSION:**\n",
        "\n",
        "*  Based on the comparison of multiple machine learning algorithms, LightGBM emerged as the most suitable model for this online payments fraud detection task.\n",
        "\n",
        "* LightGBM outperforms the other models in terms of the evaluated metrics.\n",
        "\n",
        "\n",
        "*   It ensures a balance between detecting fraudulent transactions and minimizing false alarms, making it the most reliable model compared to others like Decision Tree, Random Forest, and Logistic Regression.\n",
        "\n",
        "\n",
        "\n"
      ],
      "metadata": {
        "id": "-p0cH8Wl7SyK"
      }
    },
    {
      "cell_type": "markdown",
      "source": [
        "**USING LIGHTGBM:**"
      ],
      "metadata": {
        "id": "JwDJkLdS7m2n"
      }
    },
    {
      "cell_type": "markdown",
      "source": [
        "**METRICS BEFORE HYPERPARAMETER TUNING:**"
      ],
      "metadata": {
        "id": "4WD2Xaxdp9gi"
      }
    },
    {
      "cell_type": "code",
      "source": [
        "\n",
        "X_train, X_test, y_train, y_test = train_test_split(X, y, test_size=0.15, random_state=42)\n",
        "X_train, X_val, y_train, y_val = train_test_split(X_train, y_train, test_size=0.1765, random_state=42)\n",
        "\n",
        "# Initial LightGBM model\n",
        "initial_model = lgb.LGBMClassifier(random_state=42)\n",
        "initial_model.fit(X_train, y_train)\n",
        "\n",
        "# Predictions and evaluation before tuning\n",
        "y_pred_initial = initial_model.predict(X_val)\n",
        "accuracy_initial = accuracy_score(y_val, y_pred_initial)\n",
        "precision_initial = precision_score(y_val, y_pred_initial)\n",
        "recall_initial = recall_score(y_val, y_pred_initial)\n",
        "f1_initial = f1_score(y_val, y_pred_initial)\n",
        "\n",
        "print(\"Before Hyperparameter Tuning:\")\n",
        "print(f\"Accuracy: {accuracy_initial:.2f}\")\n",
        "print(f\"Precision: {precision_initial:.2f}\")\n",
        "print(f\"Recall: {recall_initial:.2f}\")\n",
        "print(f\"F1 Score: {f1_initial:.2f}\")\n"
      ],
      "metadata": {
        "colab": {
          "base_uri": "https://localhost:8080/"
        },
        "id": "onbyoRmcWqNY",
        "outputId": "7db42a28-ef90-4ce1-ac51-2d11593c3052"
      },
      "execution_count": 90,
      "outputs": [
        {
          "output_type": "stream",
          "name": "stdout",
          "text": [
            "Before Hyperparameter Tuning:\n",
            "Accuracy: 0.99\n",
            "Precision: 0.98\n",
            "Recall: 1.00\n",
            "F1 Score: 0.99\n"
          ]
        }
      ]
    },
    {
      "cell_type": "markdown",
      "source": [
        "**HYPERPARAMETER TUNING**\n"
      ],
      "metadata": {
        "id": "ITNbfwYxqEfZ"
      }
    },
    {
      "cell_type": "code",
      "source": [
        "from sklearn.model_selection import GridSearchCV\n",
        "import lightgbm as lgb\n",
        "import time\n",
        "\n",
        "# Define a reduced parameter grid to confirm it's running as expected\n",
        "param_grid = {\n",
        "    'num_leaves': [31, 50],\n",
        "    'learning_rate': [0.1, 0.01],\n",
        "    'n_estimators': [100, 200],\n",
        "    'max_depth': [5, 10]\n",
        "}\n",
        "\n",
        "# Start a timer\n",
        "start_time = time.time()\n",
        "\n",
        "# Grid search with LightGBM\n",
        "grid_search = GridSearchCV(\n",
        "    estimator=lgb.LGBMClassifier(random_state=42),\n",
        "    param_grid=param_grid,\n",
        "    cv=3,\n",
        "    scoring='accuracy',\n",
        "    verbose=2,\n",
        "    n_jobs=-1\n",
        ")\n",
        "\n",
        "# Fit the grid search to the data\n",
        "grid_search.fit(X_train, y_train)\n",
        "best_model = grid_search.best_estimator_\n",
        "\n",
        "# Print best hyperparameters and time taken\n",
        "print(\"Best Hyperparameters:\", grid_search.best_params_)\n",
        "print(\"Time taken: {:.2f} seconds\".format(time.time() - start_time))\n"
      ],
      "metadata": {
        "colab": {
          "base_uri": "https://localhost:8080/"
        },
        "id": "nhSsD2JJkA--",
        "outputId": "3636de9b-0f6b-41ca-a35b-d155ba43f408"
      },
      "execution_count": 91,
      "outputs": [
        {
          "output_type": "stream",
          "name": "stdout",
          "text": [
            "Fitting 3 folds for each of 16 candidates, totalling 48 fits\n",
            "Best Hyperparameters: {'learning_rate': 0.1, 'max_depth': 10, 'n_estimators': 200, 'num_leaves': 31}\n",
            "Time taken: 16.80 seconds\n"
          ]
        }
      ]
    },
    {
      "cell_type": "code",
      "source": [
        "print(f\"Best Accuracy: {grid_search.best_score_:.2f}\")"
      ],
      "metadata": {
        "colab": {
          "base_uri": "https://localhost:8080/"
        },
        "id": "ZfJTDSb6lEfU",
        "outputId": "3b9bfebc-e4f7-4a93-b9a8-8331c36ce2f8"
      },
      "execution_count": 92,
      "outputs": [
        {
          "output_type": "stream",
          "name": "stdout",
          "text": [
            "Best Accuracy: 0.99\n"
          ]
        }
      ]
    },
    {
      "cell_type": "markdown",
      "source": [
        "**METRICS AFTER HYPERPARAMETER TUNING:**"
      ],
      "metadata": {
        "id": "uGIRXfbpqK9b"
      }
    },
    {
      "cell_type": "code",
      "source": [
        "# Predictions and evaluation after tuning\n",
        "y_pred_tuned = best_model.predict(X_val)\n",
        "accuracy_tuned = accuracy_score(y_val, y_pred_tuned)\n",
        "precision_tuned = precision_score(y_val, y_pred_tuned)\n",
        "recall_tuned = recall_score(y_val, y_pred_tuned)\n",
        "f1_tuned = f1_score(y_val, y_pred_tuned)\n",
        "\n",
        "print(\"\\nAfter Hyperparameter Tuning:\")\n",
        "print(f\"Accuracy: {accuracy_tuned:.2f}\")\n",
        "print(f\"Precision: {precision_tuned:.2f}\")\n",
        "print(f\"Recall: {recall_tuned:.2f}\")\n",
        "print(f\"F1 Score: {f1_tuned:.2f}\")\n"
      ],
      "metadata": {
        "colab": {
          "base_uri": "https://localhost:8080/"
        },
        "id": "GJFnFs86lL-8",
        "outputId": "043e5c36-1a4b-4f78-84dc-6e4ec910037e"
      },
      "execution_count": 93,
      "outputs": [
        {
          "output_type": "stream",
          "name": "stdout",
          "text": [
            "\n",
            "After Hyperparameter Tuning:\n",
            "Accuracy: 0.99\n",
            "Precision: 0.99\n",
            "Recall: 0.99\n",
            "F1 Score: 0.99\n"
          ]
        }
      ]
    },
    {
      "cell_type": "markdown",
      "source": [
        "**COMPARISON - BEFORE AND AFTER HYPERPARAMETER TUNING:**"
      ],
      "metadata": {
        "id": "YtXtVitqqU4i"
      }
    },
    {
      "cell_type": "code",
      "source": [
        "# Metrics before and after tuning\n",
        "metrics_before = [accuracy_initial, precision_initial, recall_initial, f1_initial]\n",
        "metrics_after = [accuracy_tuned, precision_tuned, recall_tuned, f1_tuned]\n",
        "metric_labels = ['Accuracy', 'Precision', 'Recall', 'F1 Score']\n",
        "\n",
        "# Bar plot\n",
        "x = np.arange(len(metric_labels))\n",
        "width = 0.35\n",
        "\n",
        "fig, ax = plt.subplots(figsize=(10, 6))\n",
        "bar1 = ax.bar(x - width/2, metrics_before, width, label='Before Tuning', color='skyblue')\n",
        "bar2 = ax.bar(x + width/2, metrics_after, width, label='After Tuning', color='salmon')\n",
        "\n",
        "# Labels and title\n",
        "ax.set_xlabel('Metric')\n",
        "ax.set_ylabel('Score')\n",
        "ax.set_title('Comparison of Model Performance Before and After Hyperparameter Tuning')\n",
        "ax.set_xticks(x)\n",
        "ax.set_xticklabels(metric_labels)\n",
        "ax.legend()\n",
        "\n",
        "# Display values on bars\n",
        "for bar in bar1 + bar2:\n",
        "    height = bar.get_height()\n",
        "    ax.annotate(f'{height:.2f}',\n",
        "                xy=(bar.get_x() + bar.get_width() / 2, height),\n",
        "                xytext=(0, 3),\n",
        "                textcoords=\"offset points\",\n",
        "                ha='center', va='bottom')\n",
        "\n",
        "plt.show()\n"
      ],
      "metadata": {
        "colab": {
          "base_uri": "https://localhost:8080/",
          "height": 564
        },
        "id": "NCmoXRyjlXbS",
        "outputId": "ced84989-55a3-4768-f47f-221055ca7795"
      },
      "execution_count": 58,
      "outputs": [
        {
          "output_type": "display_data",
          "data": {
            "text/plain": [
              "<Figure size 1000x600 with 1 Axes>"
            ],
            "image/png": "[encoded data removed]"
          },
          "metadata": {}
        }
      ]
    },
    {
      "cell_type": "markdown",
      "source": [
        "**TRANING THE MODEL**\n",
        "\n",
        "*   Printing **VALIDATION ACCURACY**\n",
        "*   Printing **TEST ACCURACY**\n",
        "\n"
      ],
      "metadata": {
        "id": "DiTg1jUKqiP7"
      }
    },
    {
      "cell_type": "code",
      "source": [
        "\n",
        "# Use the best hyperparameters found in the grid search\n",
        "best_params = grid_search.best_params_\n",
        "\n",
        "# Initialize the LightGBM classifier with the best parameters\n",
        "model = lgb.LGBMClassifier(**best_params, random_state=42)\n",
        "\n",
        "# Train the model with early stopping\n",
        "# The 'verbose' argument is moved to the 'lgb.early_stopping' callback.\n",
        "# The 'lgb.early_stopping' callback is already set to 'verbose_eval=10', which controls output frequency.\n",
        "model.fit(\n",
        "    X_train,\n",
        "    y_train,\n",
        "    eval_set=[(X_val, y_val)],           # Validation set for early stopping\n",
        "    eval_metric='logloss',                # Evaluation metric for early stopping\n",
        "    # early_stopping_rounds=10,          # Removed 'early_stopping_rounds' from here\n",
        "    callbacks=[lgb.early_stopping(10, verbose=True)],  # Added early stopping as a callback with verbose\n",
        "    # verbose=True                          # Removed 'verbose' argument from here\n",
        ")\n",
        "\n",
        "# Evaluate model on the validation set\n",
        "y_val_pred = model.predict(X_val)\n",
        "val_accuracy = accuracy_score(y_val, y_val_pred)\n",
        "val_precision = precision_score(y_val, y_val_pred)\n",
        "val_recall = recall_score(y_val, y_val_pred)\n",
        "val_f1 = f1_score(y_val, y_val_pred)\n",
        "\n",
        "print(f\"Validation Accuracy: {val_accuracy * 100:.2f}%\")\n",
        "print(f\"Validation Precision: {val_precision * 100:.2f}%\")\n",
        "print(f\"Validation Recall: {val_recall * 100:.2f}%\")\n",
        "print(f\"Validation F1 Score: {val_f1 * 100:.2f}%\")\n",
        "\n",
        "# Test the model on the test set\n",
        "y_test_pred = model.predict(X_test)\n",
        "test_accuracy = accuracy_score(y_test, y_test_pred)\n",
        "test_precision = precision_score(y_test, y_test_pred)\n",
        "test_recall = recall_score(y_test, y_test_pred)\n",
        "test_f1 = f1_score(y_test, y_test_pred)\n",
        "\n",
        "print(\"\\nTest Set Evaluation:\")\n",
        "print(f\"Test Accuracy: {test_accuracy * 100:.2f}%\")\n",
        "print(f\"Test Precision: {test_precision * 100:.2f}%\")\n",
        "print(f\"Test Recall: {test_recall * 100:.2f}%\")\n",
        "print(f\"Test F1 Score: {test_f1 * 100:.2f}%\")"
      ],
      "metadata": {
        "colab": {
          "base_uri": "https://localhost:8080/"
        },
        "id": "lweUu_kYms1-",
        "outputId": "66b2f79c-b4b6-42a1-807e-fbbcd7fdcbbe"
      },
      "execution_count": 94,
      "outputs": [
        {
          "output_type": "stream",
          "name": "stdout",
          "text": [
            "Training until validation scores don't improve for 10 rounds\n",
            "Early stopping, best iteration is:\n",
            "[81]\tvalid_0's binary_logloss: 0.045622\n",
            "Validation Accuracy: 98.70%\n",
            "Validation Precision: 97.88%\n",
            "Validation Recall: 99.50%\n",
            "Validation F1 Score: 98.69%\n",
            "\n",
            "Test Set Evaluation:\n",
            "Test Accuracy: 98.74%\n",
            "Test Precision: 98.21%\n",
            "Test Recall: 99.37%\n",
            "Test F1 Score: 98.79%\n"
          ]
        }
      ]
    },
    {
      "cell_type": "markdown",
      "source": [
        "**CONFUSION MATRIX:**"
      ],
      "metadata": {
        "id": "bY8KEb82_ghH"
      }
    },
    {
      "cell_type": "code",
      "source": [
        "from sklearn.metrics import confusion_matrix, ConfusionMatrixDisplay\n",
        "import matplotlib.pyplot as plt\n",
        "\n",
        "cm = confusion_matrix(y_test, y_test_pred)\n",
        "disp = ConfusionMatrixDisplay(confusion_matrix=cm, display_labels=[0, 1])  # Adjust labels as necessary\n",
        "disp.plot(cmap=plt.cm.Blues)\n",
        "plt.show()\n"
      ],
      "metadata": {
        "colab": {
          "base_uri": "https://localhost:8080/",
          "height": 449
        },
        "id": "XJyLZEyN_GPB",
        "outputId": "94dc54d8-9ef6-46b5-fac0-11f5bd3f4abe"
      },
      "execution_count": 118,
      "outputs": [
        {
          "output_type": "display_data",
          "data": {
            "text/plain": [
              "<Figure size 640x480 with 2 Axes>"
            ],
            "image/png": "[encoded data removed]"
          },
          "metadata": {}
        }
      ]
    },
    {
      "cell_type": "markdown",
      "source": [
        "**SHOWING FEATURE IMPORTANCE:**"
      ],
      "metadata": {
        "id": "qZ8KO2qaAe1R"
      }
    },
    {
      "cell_type": "markdown",
      "source": [
        "**TESTING THE MODEL BY GIVING INPUTS:**"
      ],
      "metadata": {
        "id": "3EvsZa34-frN"
      }
    },
    {
      "cell_type": "markdown",
      "source": [
        "**STATIC INPUTS:**"
      ],
      "metadata": {
        "id": "N4Ha8z_Y-KyC"
      }
    },
    {
      "cell_type": "code",
      "source": [
        "t=np.array([[0,76550.74\t,\t1096252.93,2132233.28\t]])\n",
        "# Use the fitted model 'best_xgb_model' for prediction\n",
        "print(model.predict(t))\n",
        "if(model.predict(t)==0):\n",
        "  print(\"Not Fraud\")\n",
        "else:\n",
        "  print(\"Fraud\")"
      ],
      "metadata": {
        "colab": {
          "base_uri": "https://localhost:8080/"
        },
        "id": "jLhmGkKw5x07",
        "outputId": "202939a8-01dd-43b8-bd6b-e30f0ab8b3f7"
      },
      "execution_count": 105,
      "outputs": [
        {
          "output_type": "stream",
          "name": "stdout",
          "text": [
            "[0.]\n",
            "Not Fraud\n"
          ]
        }
      ]
    },
    {
      "cell_type": "code",
      "source": [
        "t=np.array([[4,22877.00,22877.00\t,0\t]])\n",
        "# Use the fitted model 'best_xgb_model' for prediction\n",
        "print(model.predict(t))\n",
        "if(model.predict(t)==0):\n",
        "  print(\"Not Fraud\")\n",
        "else:\n",
        "  print(\"Fraud\")"
      ],
      "metadata": {
        "colab": {
          "base_uri": "https://localhost:8080/"
        },
        "id": "Os0tObYp29L9",
        "outputId": "3a1319c4-c010-4a7b-c70d-1690bef042b7"
      },
      "execution_count": 111,
      "outputs": [
        {
          "output_type": "stream",
          "name": "stdout",
          "text": [
            "[1.]\n",
            "Fraud\n"
          ]
        }
      ]
    },
    {
      "cell_type": "code",
      "source": [
        "t=np.array([[1,4738282.28,4738282.28\t,4738282.28]])\n",
        "# Use the fitted model 'best_xgb_model' for prediction\n",
        "print(model.predict(t))\n",
        "if(model.predict(t)==0):\n",
        "  print(\"Not Fraud\")\n",
        "else:\n",
        "  print(\"Fraud\")"
      ],
      "metadata": {
        "colab": {
          "base_uri": "https://localhost:8080/"
        },
        "id": "NUqYCUnL7_bR",
        "outputId": "8535f052-e5ee-4c04-d477-3c2a4908136c"
      },
      "execution_count": 112,
      "outputs": [
        {
          "output_type": "stream",
          "name": "stdout",
          "text": [
            "[1.]\n",
            "Fraud\n"
          ]
        }
      ]
    },
    {
      "cell_type": "markdown",
      "source": [
        "**INPUTS FROM THE USER:**(Dynamic inputs)"
      ],
      "metadata": {
        "id": "qVXCTuSS-Ps_"
      }
    },
    {
      "cell_type": "code",
      "source": [
        "# Define a function to get user input and predict fraud\n",
        "def get_user_input_and_predict(model):\n",
        "    # Get user input\n",
        "    transaction_type = input(\"Enter the type of transaction (e.g., 'CASH_IN', 'CASH_OUT', etc.): \")\n",
        "    amount = float(input(\"Enter the transaction amount: \"))\n",
        "    oldbalanceOrg = float(input(\"Enter the old balance of the origin account: \"))\n",
        "    newbalanceDest = float(input(\"Enter the new balance of the destination account: \"))\n",
        "\n",
        "    # Prepare the input for the model\n",
        "    features = {\n",
        "        'type': transaction_type,\n",
        "        'amount': amount,\n",
        "        'oldbalanceOrg': oldbalanceOrg,\n",
        "        'newbalanceDest': newbalanceDest\n",
        "    }\n",
        "\n",
        "    # Convert categorical features into numerical format as required by the model\n",
        "    # Adjusting encoding based on your model's training\n",
        "    transaction_types = {\n",
        "        'CASH_IN': 0,\n",
        "        'CASH_OUT': 1,\n",
        "        'DEBIT': 2,\n",
        "        'PAYMENT': 3,\n",
        "        'TRANSFER': 4\n",
        "    }  # Include all types that your model recognizes\n",
        "\n",
        "    # Encode the transaction type\n",
        "    type_encoded = transaction_types.get(transaction_type, -1)  # Use -1 for unknown types\n",
        "\n",
        "    # Check if type_encoded is -1 which indicates an unknown type\n",
        "    if type_encoded == -1:\n",
        "        print(f\"Unknown transaction type: {transaction_type}. Please enter a valid type.\")\n",
        "        return\n",
        "\n",
        "    # Create a feature array\n",
        "    X_new = np.array([[type_encoded, amount, oldbalanceOrg, newbalanceDest]])\n",
        "\n",
        "    # Debugging: print the feature array and model prediction\n",
        "    print(\"Features for prediction:\", X_new)\n",
        "\n",
        "    # Make prediction\n",
        "    prediction = model.predict(X_new)\n",
        "\n",
        "    # Output the result\n",
        "    if prediction[0] == 1:\n",
        "        print(\"The transaction is predicted to be fraudulent.\")\n",
        "    else:\n",
        "        print(\"The transaction is predicted to be legitimate.\")\n",
        "\n",
        "# Call the function to test the model with user input\n",
        "get_user_input_and_predict(model)\n"
      ],
      "metadata": {
        "colab": {
          "base_uri": "https://localhost:8080/"
        },
        "id": "wCGx0SDN9Qos",
        "outputId": "7775c5aa-fd70-4932-9058-a8d95fa4de6e"
      },
      "execution_count": 116,
      "outputs": [
        {
          "output_type": "stream",
          "name": "stdout",
          "text": [
            "Enter the type of transaction (e.g., 'CASH_IN', 'CASH_OUT', etc.): CASH_IN\n",
            "Enter the transaction amount: 76550.74\n",
            "Enter the old balance of the origin account: 1096252.93\n",
            "Enter the new balance of the destination account: 2132233.28\n",
            "Features for prediction: [[      0.     76550.74 1096252.93 2132233.28]]\n",
            "The transaction is predicted to be legitimate.\n"
          ]
        }
      ]
    },
    {
      "cell_type": "markdown",
      "source": [
        "**MODEL DEPLOYMENT:**"
      ],
      "metadata": {
        "id": "4ShG08N4_0qX"
      }
    },
    {
      "cell_type": "code",
      "source": [
        "import joblib\n",
        "joblib.dump(model, 'lightgbm_model.pkl')\n"
      ],
      "metadata": {
        "colab": {
          "base_uri": "https://localhost:8080/"
        },
        "id": "H2qxrrBU_vzz",
        "outputId": "17567dfb-3796-4c73-f44c-886d944002c0"
      },
      "execution_count": 121,
      "outputs": [
        {
          "output_type": "execute_result",
          "data": {
            "text/plain": [
              "['lightgbm_model.pkl']"
            ]
          },
          "metadata": {},
          "execution_count": 121
        }
      ]
    }
  ]
}